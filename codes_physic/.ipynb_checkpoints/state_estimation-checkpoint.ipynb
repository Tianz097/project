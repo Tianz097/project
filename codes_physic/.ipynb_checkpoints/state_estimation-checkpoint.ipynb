{
 "cells": [
  {
   "cell_type": "code",
   "execution_count": 31,
   "id": "ff2270df",
   "metadata": {},
   "outputs": [],
   "source": [
    "import scipy.io as scio\n",
    "STKLnet = scio.loadmat('./STKLnet_Coursework_Dataset.mat')"
   ]
  },
  {
   "cell_type": "code",
   "execution_count": 32,
   "id": "d8343443",
   "metadata": {},
   "outputs": [],
   "source": [
    "import numpy as np\n",
    "import pandas as pd\n",
    "import networkx as nx\n",
    "from scipy import sparse"
   ]
  },
  {
   "cell_type": "code",
   "execution_count": 33,
   "id": "4e73ec8a",
   "metadata": {},
   "outputs": [],
   "source": [
    "wdn = STKLnet['wdn']\n",
    "\n",
    "\n",
    "# 创建一个空的DataFrame\n",
    "df = pd.DataFrame()\n",
    "\n",
    "# 处理每个字段\n",
    "for field_name in wdn.dtype.names:\n",
    "    field_data = wdn[field_name][0, 0]\n",
    "\n",
    "    if sparse.issparse(field_data):\n",
    "        # 使用稀疏矩阵的方法和属性来获取相关信息\n",
    "        length = field_data.shape[0]\n",
    "        field_data = field_data.reshape(length, -1).toarray()\n",
    "\n",
    "    # 将字段数据作为一个整体添加到DataFrame的列\n",
    "    df[field_name] = [field_data]"
   ]
  },
  {
   "cell_type": "code",
   "execution_count": 43,
   "id": "72ede3a2",
   "metadata": {},
   "outputs": [],
   "source": [
    "A12 = np.array(df['A12'])\n",
    "A10 = np.array(df['A10'])\n",
    "np_val = df['np']\n",
    "nn_val = df['nn']\n",
    "n_exp_val = df['n_exp']\n",
    "C = df['C']\n",
    "\n",
    "# 确保A12和A10都是二维数组\n",
    "if A12.ndim == 1:\n",
    "    A12 = np.expand_dims(A12, axis=1)\n",
    "if A10.ndim == 1:\n",
    "    A10 = np.expand_dims(A10, axis=1)\n",
    "\n",
    "# 拼接数组\n",
    "A = np.concatenate((A12, A10), axis=1)"
   ]
  },
  {
   "cell_type": "code",
   "execution_count": 44,
   "id": "7c70b744",
   "metadata": {},
   "outputs": [
    {
     "name": "stderr",
     "output_type": "stream",
     "text": [
      "C:\\Users\\TianZhang\\AppData\\Local\\Temp\\ipykernel_4876\\3730977845.py:5: DeprecationWarning: elementwise comparison failed; this will raise an error in the future.\n",
      "  node_in = np.where(A[k, :] == -1)[0]\n",
      "C:\\Users\\TianZhang\\AppData\\Local\\Temp\\ipykernel_4876\\3730977845.py:6: DeprecationWarning: elementwise comparison failed; this will raise an error in the future.\n",
      "  node_out = np.where(A[k, :] == 1)[0]\n"
     ]
    }
   ],
   "source": [
    "A = np.concatenate((A12, A10), axis=1)\n",
    "n0 = A.shape[1] - nn_val\n",
    "AdjA = np.zeros((A.shape[1], A.shape[1]))\n",
    "for k in range(A.shape[0]):\n",
    "    node_in = np.where(A[k, :] == -1)[0]\n",
    "    node_out = np.where(A[k, :] == 1)[0]\n",
    "    AdjA[node_in, node_out] = 1\n",
    "    AdjA[node_out, node_in] = 1\n",
    "\n",
    "\n",
    "gr = nx.from_numpy_array(AdjA)"
   ]
  },
  {
   "cell_type": "code",
   "execution_count": 51,
   "id": "4d6c94c1",
   "metadata": {},
   "outputs": [
    {
     "ename": "NameError",
     "evalue": "name 'wdn' is not defined",
     "output_type": "error",
     "traceback": [
      "\u001b[1;31m---------------------------------------------------------------------------\u001b[0m",
      "\u001b[1;31mNameError\u001b[0m                                 Traceback (most recent call last)",
      "Cell \u001b[1;32mIn[51], line 3\u001b[0m\n\u001b[0;32m      1\u001b[0m \u001b[38;5;28;01mimport\u001b[39;00m \u001b[38;5;21;01mhydraulic_simulation\u001b[39;00m\n\u001b[0;32m      2\u001b[0m \u001b[38;5;28;01mimport\u001b[39;00m \u001b[38;5;21;01msolveHW_Nullspace\u001b[39;00m\n\u001b[1;32m----> 3\u001b[0m \u001b[38;5;28;01mimport\u001b[39;00m \u001b[38;5;21;01mlinear_approx_calibration\u001b[39;00m\n\u001b[0;32m      4\u001b[0m q_sim, h_sim \u001b[38;5;241m=\u001b[39m hydraulic_simulation(C, df, data[\u001b[38;5;124m'\u001b[39m\u001b[38;5;124md\u001b[39m\u001b[38;5;124m'\u001b[39m], data[\u001b[38;5;124m'\u001b[39m\u001b[38;5;124mh0\u001b[39m\u001b[38;5;124m'\u001b[39m])\n",
      "File \u001b[1;32m~\\project\\physic_based\\codes_physic\\linear_approx_calibration.py:32\u001b[0m\n\u001b[0;32m     29\u001b[0m     \u001b[38;5;28;01mreturn\u001b[39;00m a11k, b1k, b2k\n\u001b[0;32m     31\u001b[0m \u001b[38;5;66;03m# 假设你已经加载了 wdn, q, theta 的数据\u001b[39;00m\n\u001b[1;32m---> 32\u001b[0m a11k, b1k, b2k \u001b[38;5;241m=\u001b[39m linear_approx_calibration(\u001b[43mwdn\u001b[49m, q, theta)\n",
      "\u001b[1;31mNameError\u001b[0m: name 'wdn' is not defined"
     ]
    }
   ],
   "source": [
    "import hydraulic_simulation\n",
    "import solveHW_Nullspace\n",
    "import linear_approx_calibration\n",
    "q_sim, h_sim = hydraulic_simulation(C, df, data['d'], data['h0'])"
   ]
  },
  {
   "cell_type": "code",
   "execution_count": null,
   "id": "2c94af04",
   "metadata": {},
   "outputs": [],
   "source": []
  }
 ],
 "metadata": {
  "kernelspec": {
   "display_name": "Python 3 (ipykernel)",
   "language": "python",
   "name": "python3"
  },
  "language_info": {
   "codemirror_mode": {
    "name": "ipython",
    "version": 3
   },
   "file_extension": ".py",
   "mimetype": "text/x-python",
   "name": "python",
   "nbconvert_exporter": "python",
   "pygments_lexer": "ipython3",
   "version": "3.10.9"
  }
 },
 "nbformat": 4,
 "nbformat_minor": 5
}
