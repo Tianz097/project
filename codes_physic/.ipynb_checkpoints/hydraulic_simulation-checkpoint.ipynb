{
 "cells": [
  {
   "cell_type": "code",
   "execution_count": null,
   "metadata": {},
   "outputs": [],
   "source": [
    "import numpy as np\n",
    "\n",
    "def hydraulic_simulation(C, wdn, d, h0):\n",
    "    nt = d.shape[1]\n",
    "    np = wdn['np']\n",
    "    nn = wdn['nn']\n",
    "    nulldata = wdn['nulldata']\n",
    "\n",
    "    # define parameters for the hydraulic solver\n",
    "    max_iter = 100\n",
    "    kappa = 1e7\n",
    "    tol_err = 1e-9\n",
    "\n",
    "    h = np.zeros((nn, nt))\n",
    "    q = np.zeros((np, nt))\n",
    "\n",
    "   \n",
    "\n",
    " # Perform extended period simulation\n",
    "    for t in range(nt):\n",
    "        q_0 = 0.3 * np.ones((np, 1))\n",
    "        h_0 = 130 * np.ones((nn, 1))\n",
    "\n",
    "        # This is a vector required by the null space hydraulic solver\n",
    "        nulldata['x'] = nulldata['A12'] @ (nulldata['Pr'].T @ (np.linalg.solve(nulldata['L_A12'], np.linalg.solve(nulldata['L_A12'], nulldata['Pr'] @ d[:, t]))))\n",
    "\n",
    "        # Define the resistance coefficient r\n",
    "        ResCoeff = 10.670 * wdn['L'] / ((C**1.852) * (wdn['D']**4.871))\n",
    "        if 'valves' in wdn and len(wdn['valves']) > 0:\n",
    "            # Define resistance coefficient specific to valves using minor loss coefficient\n",
    "            valves = wdn['valves']\n",
    "            ResCoeff[valves] = (8 / (np.pi**2 * 9.81)) * (wdn['D'][valves]**-4) * C[valves]\n",
    "\n",
    "        qt, ht, err, iter_, CONDS, ERRORS = solveHW_Nullspace(wdn['A12'], wdn['A12'].T, wdn['A10'], h0[:, t], q_0, h_0, d[:, t], np, nulldata, max_iter, kappa, tol_err)\n",
    "\n",
    "        if ERRORS > tol_err:\n",
    "            check = 1\n",
    "\n",
    "        h[:, t] = ht\n",
    "        q[:, t] = qt\n",
    "\n",
    "    return q, h"
   ]
  }
 ],
 "metadata": {
  "kernelspec": {
   "display_name": "Python 3 (ipykernel)",
   "language": "python",
   "name": "python3"
  },
  "language_info": {
   "codemirror_mode": {
    "name": "ipython",
    "version": 3
   },
   "file_extension": ".py",
   "mimetype": "text/x-python",
   "name": "python",
   "nbconvert_exporter": "python",
   "pygments_lexer": "ipython3",
   "version": "3.10.9"
  }
 },
 "nbformat": 4,
 "nbformat_minor": 2
}
