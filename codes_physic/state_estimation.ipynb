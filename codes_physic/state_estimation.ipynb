{
 "cells": [
  {
   "cell_type": "code",
   "execution_count": 31,
   "id": "ff2270df",
   "metadata": {},
   "outputs": [],
   "source": [
    "import scipy.io as scio\n",
    "STKLnet = scio.loadmat('./STKLnet_Coursework_Dataset.mat')"
   ]
  },
  {
   "cell_type": "code",
   "execution_count": 32,
   "id": "d8343443",
   "metadata": {},
   "outputs": [],
   "source": [
    "import numpy as np\n",
    "import pandas as pd\n",
    "import networkx as nx\n",
    "from scipy import sparse"
   ]
  },
  {
   "cell_type": "code",
   "execution_count": 33,
   "id": "4e73ec8a",
   "metadata": {},
   "outputs": [],
   "source": [
    "wdn = STKLnet['wdn']\n",
    "\n",
    "# 创建一个空的DataFrame\n",
    "df = pd.DataFrame()\n",
    "\n",
    "# 处理每个字段\n",
    "for field_name in wdn.dtype.names:\n",
    "    field_data = wdn[field_name][0, 0]\n",
    "\n",
    "    if sparse.issparse(field_data):\n",
    "        # 使用稀疏矩阵的方法和属性来获取相关信息\n",
    "        length = field_data.shape[0]\n",
    "        field_data = field_data.reshape(length, -1).toarray()\n",
    "\n",
    "    # 将字段数据作为一个整体添加到DataFrame的列\n",
    "    df[field_name] = [field_data]"
   ]
  },
  {
   "cell_type": "code",
   "execution_count": 55,
   "id": "ff8a3f6e",
   "metadata": {},
   "outputs": [],
   "source": [
    "data_m = STKLnet['data']\n",
    "data = pd.DataFrame()\n",
    "# 处理每个字段\n",
    "for field_name in data_m.dtype.names:\n",
    "    field_data = data_m[field_name][0, 0]\n",
    "\n",
    "    if sparse.issparse(field_data):\n",
    "        # 使用稀疏矩阵的方法和属性来获取相关信息\n",
    "        length = field_data.shape[0]\n",
    "        field_data = field_data.reshape(length, -1).toarray()\n",
    "\n",
    "    # 将字段数据作为一个整体添加到DataFrame的列\n",
    "    data[field_name] = [field_data]"
   ]
  },
  {
   "cell_type": "code",
   "execution_count": 43,
   "id": "292f86ab",
   "metadata": {},
   "outputs": [],
   "source": [
    "A12 = np.array(df['A12'])\n",
    "A10 = np.array(df['A10'])\n",
    "np_val = df['np']\n",
    "nn_val = df['nn']\n",
    "n_exp_val = df['n_exp']\n",
    "C = df['C']\n",
    "\n",
    "# 确保A12和A10都是二维数组\n",
    "if A12.ndim == 1:\n",
    "    A12 = np.expand_dims(A12, axis=1)\n",
    "if A10.ndim == 1:\n",
    "    A10 = np.expand_dims(A10, axis=1)\n",
    "\n",
    "# 拼接数组\n",
    "A = np.concatenate((A12, A10), axis=1)"
   ]
  },
  {
   "cell_type": "code",
   "execution_count": 44,
   "id": "bda9975c",
   "metadata": {},
   "outputs": [
    {
     "name": "stderr",
     "output_type": "stream",
     "text": [
      "C:\\Users\\TianZhang\\AppData\\Local\\Temp\\ipykernel_4876\\3730977845.py:5: DeprecationWarning: elementwise comparison failed; this will raise an error in the future.\n",
      "  node_in = np.where(A[k, :] == -1)[0]\n",
      "C:\\Users\\TianZhang\\AppData\\Local\\Temp\\ipykernel_4876\\3730977845.py:6: DeprecationWarning: elementwise comparison failed; this will raise an error in the future.\n",
      "  node_out = np.where(A[k, :] == 1)[0]\n"
     ]
    }
   ],
   "source": [
    "A = np.concatenate((A12, A10), axis=1)\n",
    "n0 = A.shape[1] - nn_val\n",
    "AdjA = np.zeros((A.shape[1], A.shape[1]))\n",
    "for k in range(A.shape[0]):\n",
    "    node_in = np.where(A[k, :] == -1)[0]\n",
    "    node_out = np.where(A[k, :] == 1)[0]\n",
    "    AdjA[node_in, node_out] = 1\n",
    "    AdjA[node_out, node_in] = 1\n",
    "\n",
    "\n",
    "gr = nx.from_numpy_array(AdjA)"
   ]
  },
  {
   "cell_type": "code",
   "execution_count": 57,
   "id": "0ceea70b",
   "metadata": {},
   "outputs": [
    {
     "ename": "IndexError",
     "evalue": "tuple index out of range",
     "output_type": "error",
     "traceback": [
      "\u001b[1;31m---------------------------------------------------------------------------\u001b[0m",
      "\u001b[1;31mIndexError\u001b[0m                                Traceback (most recent call last)",
      "Cell \u001b[1;32mIn[57], line 5\u001b[0m\n\u001b[0;32m      3\u001b[0m \u001b[38;5;28;01mimport\u001b[39;00m \u001b[38;5;21;01mlinear_approx_calibration\u001b[39;00m\n\u001b[0;32m      4\u001b[0m \u001b[38;5;28;01mfrom\u001b[39;00m \u001b[38;5;21;01mhydraulic_simulation\u001b[39;00m \u001b[38;5;28;01mimport\u001b[39;00m hydraulic_simulation\n\u001b[1;32m----> 5\u001b[0m q_sim, h_sim \u001b[38;5;241m=\u001b[39m \u001b[43mhydraulic_simulation\u001b[49m\u001b[43m(\u001b[49m\u001b[43mC\u001b[49m\u001b[43m,\u001b[49m\u001b[43m \u001b[49m\u001b[43mdf\u001b[49m\u001b[43m,\u001b[49m\u001b[43m \u001b[49m\u001b[43mdata\u001b[49m\u001b[43m[\u001b[49m\u001b[38;5;124;43m'\u001b[39;49m\u001b[38;5;124;43md\u001b[39;49m\u001b[38;5;124;43m'\u001b[39;49m\u001b[43m]\u001b[49m\u001b[43m,\u001b[49m\u001b[43m \u001b[49m\u001b[43mdata\u001b[49m\u001b[43m[\u001b[49m\u001b[38;5;124;43m'\u001b[39;49m\u001b[38;5;124;43mh0\u001b[39;49m\u001b[38;5;124;43m'\u001b[39;49m\u001b[43m]\u001b[49m\u001b[43m)\u001b[49m\n",
      "File \u001b[1;32m~\\project\\physic_based\\codes_physic\\hydraulic_simulation.py:10\u001b[0m, in \u001b[0;36mhydraulic_simulation\u001b[1;34m(C, wdn, d, h0)\u001b[0m\n\u001b[0;32m      9\u001b[0m \u001b[38;5;28;01mdef\u001b[39;00m \u001b[38;5;21mhydraulic_simulation\u001b[39m(C, wdn, d, h0):\n\u001b[1;32m---> 10\u001b[0m     nt \u001b[38;5;241m=\u001b[39m \u001b[43md\u001b[49m\u001b[38;5;241;43m.\u001b[39;49m\u001b[43mshape\u001b[49m\u001b[43m[\u001b[49m\u001b[38;5;241;43m1\u001b[39;49m\u001b[43m]\u001b[49m\n\u001b[0;32m     11\u001b[0m     np \u001b[38;5;241m=\u001b[39m wdn[\u001b[38;5;124m'\u001b[39m\u001b[38;5;124mnp\u001b[39m\u001b[38;5;124m'\u001b[39m]\n\u001b[0;32m     12\u001b[0m     nn \u001b[38;5;241m=\u001b[39m wdn[\u001b[38;5;124m'\u001b[39m\u001b[38;5;124mnn\u001b[39m\u001b[38;5;124m'\u001b[39m]\n",
      "\u001b[1;31mIndexError\u001b[0m: tuple index out of range"
     ]
    }
   ],
   "source": [
    "import hydraulic_simulation\n",
    "import solveHW_Nullspace\n",
    "import linear_approx_calibration\n",
    "from hydraulic_simulation import hydraulic_simulation\n",
    "q_sim, h_sim = hydraulic_simulation(C, df, data['d'], data['h0'])"
   ]
  },
  {
   "cell_type": "code",
   "execution_count": null,
   "id": "5cdb1770",
   "metadata": {},
   "outputs": [],
   "source": []
  }
 ],
 "metadata": {
  "kernelspec": {
   "display_name": "Python 3 (ipykernel)",
   "language": "python",
   "name": "python3"
  },
  "language_info": {
   "codemirror_mode": {
    "name": "ipython",
    "version": 3
   },
   "file_extension": ".py",
   "mimetype": "text/x-python",
   "name": "python",
   "nbconvert_exporter": "python",
   "pygments_lexer": "ipython3",
   "version": "3.10.9"
  }
 },
 "nbformat": 4,
 "nbformat_minor": 5
}
