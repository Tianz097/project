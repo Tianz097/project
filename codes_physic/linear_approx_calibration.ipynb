{
 "cells": [
  {
   "cell_type": "code",
   "execution_count": null,
   "id": "907d2cde",
   "metadata": {},
   "outputs": [],
   "source": [
    "import numpy as np\n",
    "\n",
    "def linear_approx_calibration(wdn, q, theta):\n",
    "    ResCoeff = 10.670 * wdn['L'] / ((theta ** wdn['n_exp']) * (wdn['D'] ** 4.871))\n",
    "\n",
    "    if 'valves' in wdn and len(wdn['valves']) > 0:\n",
    "        # 根据小损失系数定义与阀门相关的粗糙度系数\n",
    "        wdn['n_exp'][wdn['valves']] = 2\n",
    "        ResCoeff[wdn['valves']] = (8 / (np.pi ** 2 * 9.81)) * (wdn['D'][wdn['valves']] ** -4) * theta[wdn['valves']]\n",
    "\n",
    "    a11k = np.tile(ResCoeff, (1, q.shape[1])) * np.abs(q) ** (wdn['n_exp'] - 1)\n",
    "\n",
    "    b1k = ResCoeff\n",
    "    if 'valves' in wdn and len(wdn['valves']) > 0:\n",
    "        b1k[wdn['valves']] = -wdn['n_exp'][wdn['valves']] * b1k[wdn['valves']]\n",
    "    b1k = np.tile(b1k, (1, q.shape[1])) * np.abs(q) ** (wdn['n_exp'] - 1)\n",
    "\n",
    "    b2k = (-wdn['n_exp'] * ResCoeff) / theta\n",
    "    if 'valves' in wdn and len(wdn['valves']) > 0:\n",
    "        b2k[wdn['valves']] = b2k[wdn['valves']] / (-wdn['n_exp'][wdn['valves']])\n",
    "    b2k = np.tile(b2k, (1, q.shape[1])) * np.abs(q) ** (wdn['n_exp'] - 1) * q\n",
    "\n",
    "    return a11k, b1k, b2k\n"
   ]
  }
 ],
 "metadata": {
  "kernelspec": {
   "display_name": "Python 3 (ipykernel)",
   "language": "python",
   "name": "python3"
  },
  "language_info": {
   "codemirror_mode": {
    "name": "ipython",
    "version": 3
   },
   "file_extension": ".py",
   "mimetype": "text/x-python",
   "name": "python",
   "nbconvert_exporter": "python",
   "pygments_lexer": "ipython3",
   "version": "3.10.9"
  }
 },
 "nbformat": 4,
 "nbformat_minor": 5
}
